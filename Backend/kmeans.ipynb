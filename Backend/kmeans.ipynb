{
 "cells": [
  {
   "cell_type": "code",
   "execution_count": 31,
   "metadata": {},
   "outputs": [],
   "source": [
    "import matplotlib.pyplot as plt\n",
    "import numpy as np\n",
    "import pandas as pd\n",
    "from sklearn.preprocessing import StandardScaler\n",
    "import sklearn.cluster as cluster"
   ]
  },
  {
   "cell_type": "code",
   "execution_count": 32,
   "metadata": {},
   "outputs": [],
   "source": [
    "Monday = pd.read_csv(\"data/Weekdays/Monday.csv\")\n",
    "Tuesday = pd.read_csv(\"data/Weekdays/Tuesday.csv\")\n",
    "Wednesday = pd.read_csv(\"data/Weekdays/Wednesday.csv\")\n",
    "Thursday = pd.read_csv(\"data/Weekdays/Thursday.csv\")\n",
    "Friday = pd.read_csv(\"data/Weekdays/Friday.csv\")\n",
    "Saturday = pd.read_csv(\"data/Weekdays/Saturday.csv\")\n",
    "Sunday = pd.read_csv(\"data/Weekdays/Sunday.csv\")"
   ]
  },
  {
   "cell_type": "code",
   "execution_count": 33,
   "metadata": {},
   "outputs": [],
   "source": [
    "Mega_df = pd.concat([Monday, Tuesday, Wednesday, Thursday, Friday, Saturday, Sunday])"
   ]
  },
  {
   "cell_type": "code",
   "execution_count": 34,
   "metadata": {},
   "outputs": [
    {
     "data": {
      "text/plain": [
       "StandardScaler()"
      ]
     },
     "execution_count": 34,
     "metadata": {},
     "output_type": "execute_result"
    }
   ],
   "source": [
    "scaler = StandardScaler()\n",
    "scaler.fit(Mega_df[['acousticness', 'danceability', 'energy', 'instrumentalness', 'liveness', 'loudness', 'speechiness', 'tempo', 'valence']])"
   ]
  },
  {
   "cell_type": "code",
   "execution_count": 35,
   "metadata": {},
   "outputs": [
    {
     "data": {
      "text/plain": [
       "array([[-0.41647139, -1.27455508,  0.88688055, ..., -0.80614268,\n",
       "         0.46964179,  1.08894571],\n",
       "       [-0.12368442,  0.63952874,  0.37165696, ..., -0.80628364,\n",
       "        -0.97744354,  1.91781772],\n",
       "       [ 1.37536739,  0.37961257, -1.19162749, ..., -0.80751858,\n",
       "         0.0394827 ,  1.03175437],\n",
       "       ...,\n",
       "       [ 0.2304346 , -0.53257183, -0.22936485, ..., -0.09021245,\n",
       "         1.76956531,  0.10970086],\n",
       "       [ 0.18794948, -0.4054607 ,  1.35509519, ...,  2.56374168,\n",
       "         1.40646612,  0.41669491],\n",
       "       [ 0.18794948, -0.4054607 ,  1.35509519, ...,  2.56374168,\n",
       "         1.40646612,  0.41669491]])"
      ]
     },
     "execution_count": 35,
     "metadata": {},
     "output_type": "execute_result"
    }
   ],
   "source": [
    "Features_scaled = scaler.transform(Mega_df[['acousticness', 'danceability', 'energy', 'instrumentalness', 'liveness', 'loudness', 'speechiness', 'tempo', 'valence']])\n",
    "Features_scaled\n"
   ]
  },
  {
   "cell_type": "code",
   "execution_count": 36,
   "metadata": {},
   "outputs": [],
   "source": [
    "Acousticness_x = [row[0] for row in Features_scaled]\n",
    "Danceability_x = [row[1] for row in Features_scaled]\n",
    "Energy_x = [row[2] for row in Features_scaled]\n",
    "Instrumentalness_x = [row[3] for row in Features_scaled]\n",
    "Liveness_x = [row[4] for row in Features_scaled]\n",
    "Loudness_x = [row[5] for row in Features_scaled]\n",
    "Speechiness_x = [row[6] for row in Features_scaled]\n",
    "Tempo_x = [row[7] for row in Features_scaled]\n",
    "Valence_x =  [row[8] for row in Features_scaled]"
   ]
  },
  {
   "cell_type": "code",
   "execution_count": 38,
   "metadata": {},
   "outputs": [
    {
     "name": "stdout",
     "output_type": "stream",
     "text": [
      "[781698.0427979971, 340681.90153866005, 188516.00552903698, 117159.21195383117, 83005.3197376913, 58969.46681796615, 46585.70390982959]\n"
     ]
    }
   ],
   "source": [
    "Acousticness_x = np.reshape(Acousticness_x, (-1, 1))\n",
    "\n",
    "wss_acousticness = []\n",
    "for i in range(2, 9):\n",
    "    kmeans = cluster.KMeans(n_clusters = i, init = \"k-means++\")\n",
    "    kmeans = kmeans.fit(Acousticness_x)\n",
    "    wss_iter = kmeans.inertia_\n",
    "    wss_acousticness.append(wss_iter)\n",
    "\n",
    "print(wss_acousticness)"
   ]
  },
  {
   "cell_type": "code",
   "execution_count": 58,
   "metadata": {},
   "outputs": [
    {
     "data": {
      "text/plain": [
       "[<matplotlib.lines.Line2D at 0x7fb392bd8220>]"
      ]
     },
     "execution_count": 58,
     "metadata": {},
     "output_type": "execute_result"
    },
    {
     "data": {
      "image/png": "[encoded data removed]",
      "text/plain": [
       "<Figure size 432x288 with 1 Axes>"
      ]
     },
     "metadata": {
      "needs_background": "light"
     },
     "output_type": "display_data"
    }
   ],
   "source": [
    "plt.plot([2, 3, 4, 5, 6, 7, 8], wss_acousticness, marker = 'o')"
   ]
  },
  {
   "cell_type": "code",
   "execution_count": 40,
   "metadata": {},
   "outputs": [
    {
     "name": "stdout",
     "output_type": "stream",
     "text": [
      "[1098432.2522487903, 590488.5867060777, 349133.9234671728, 227885.64139003988, 163292.0677063526, 121568.04257228287, 95077.29522623305]\n"
     ]
    }
   ],
   "source": [
    "Danceability_x = np.reshape(Danceability_x, (-1, 1))\n",
    "\n",
    "wss_danceability = []\n",
    "for i in range(2, 9):\n",
    "    kmeans = cluster.KMeans(n_clusters = i, init = \"k-means++\")\n",
    "    kmeans = kmeans.fit(Danceability_x)\n",
    "    wss_iter = kmeans.inertia_\n",
    "    wss_danceability.append(wss_iter)\n",
    "\n",
    "print(wss_danceability)"
   ]
  },
  {
   "cell_type": "code",
   "execution_count": 41,
   "metadata": {},
   "outputs": [
    {
     "data": {
      "text/plain": [
       "[<matplotlib.lines.Line2D at 0x7fb315792340>]"
      ]
     },
     "execution_count": 41,
     "metadata": {},
     "output_type": "execute_result"
    },
    {
     "data": {
      "image/png": "[encoded data removed]",
      "text/plain": [
       "<Figure size 432x288 with 1 Axes>"
      ]
     },
     "metadata": {
      "needs_background": "light"
     },
     "output_type": "display_data"
    }
   ],
   "source": [
    "plt.plot([2, 3, 4, 5, 6, 7, 8], wss_danceability, marker = 'o')"
   ]
  },
  {
   "cell_type": "code",
   "execution_count": 42,
   "metadata": {},
   "outputs": [
    {
     "name": "stdout",
     "output_type": "stream",
     "text": [
      "[1182225.4592760063, 585898.9135002776, 360207.3630680951, 226217.06507969974, 164219.66110549337, 119153.51574666676, 88522.63864103529]\n"
     ]
    }
   ],
   "source": [
    "Energy_x = np.reshape(Energy_x, (-1, 1))\n",
    "\n",
    "wss_energy = []\n",
    "for i in range(2, 9):\n",
    "    kmeans = cluster.KMeans(n_clusters = i, init = \"k-means++\")\n",
    "    kmeans = kmeans.fit(Energy_x)\n",
    "    wss_iter = kmeans.inertia_\n",
    "    wss_energy.append(wss_iter)\n",
    "\n",
    "print(wss_energy)"
   ]
  },
  {
   "cell_type": "code",
   "execution_count": 43,
   "metadata": {},
   "outputs": [
    {
     "data": {
      "text/plain": [
       "[<matplotlib.lines.Line2D at 0x7fb3584b79d0>]"
      ]
     },
     "execution_count": 43,
     "metadata": {},
     "output_type": "execute_result"
    },
    {
     "data": {
      "image/png": "[encoded data removed]",
      "text/plain": [
       "<Figure size 432x288 with 1 Axes>"
      ]
     },
     "metadata": {
      "needs_background": "light"
     },
     "output_type": "display_data"
    }
   ],
   "source": [
    "plt.plot([2, 3, 4, 5, 6, 7, 8], wss_energy, marker = 'o')"
   ]
  },
  {
   "cell_type": "code",
   "execution_count": 44,
   "metadata": {},
   "outputs": [
    {
     "name": "stdout",
     "output_type": "stream",
     "text": [
      "[276926.49921340053, 106347.75425729188, 59475.4840186251, 37164.434216559435, 25655.695520914767, 18477.1004368493, 14199.555985703832]\n"
     ]
    }
   ],
   "source": [
    "Instrumentalness_x = np.reshape(Instrumentalness_x, (-1, 1))\n",
    "\n",
    "wss_instrumentalness = []\n",
    "for i in range(2, 9):\n",
    "    kmeans = cluster.KMeans(n_clusters = i, init = \"k-means++\")\n",
    "    kmeans = kmeans.fit(Instrumentalness_x)\n",
    "    wss_iter = kmeans.inertia_\n",
    "    wss_instrumentalness.append(wss_iter)\n",
    "\n",
    "print(wss_instrumentalness)"
   ]
  },
  {
   "cell_type": "code",
   "execution_count": 45,
   "metadata": {},
   "outputs": [
    {
     "data": {
      "text/plain": [
       "[<matplotlib.lines.Line2D at 0x7fb360791f10>]"
      ]
     },
     "execution_count": 45,
     "metadata": {},
     "output_type": "execute_result"
    },
    {
     "data": {
      "image/png": "[encoded data removed]",
      "text/plain": [
       "<Figure size 432x288 with 1 Axes>"
      ]
     },
     "metadata": {
      "needs_background": "light"
     },
     "output_type": "display_data"
    }
   ],
   "source": [
    "plt.plot([2, 3, 4, 5, 6, 7, 8], wss_instrumentalness, marker = 'o')"
   ]
  },
  {
   "cell_type": "code",
   "execution_count": 46,
   "metadata": {},
   "outputs": [
    {
     "name": "stdout",
     "output_type": "stream",
     "text": [
      "[1058068.4236168112, 405399.60304702504, 260762.75311456696, 172401.67793138916, 124507.76883651805, 95771.64138664425, 72993.16047067927]\n"
     ]
    }
   ],
   "source": [
    "Liveness_x = np.reshape(Liveness_x, (-1, 1))\n",
    "\n",
    "wss_liveness = []\n",
    "for i in range(2, 9):\n",
    "    kmeans = cluster.KMeans(n_clusters = i, init = \"k-means++\")\n",
    "    kmeans = kmeans.fit(Liveness_x)\n",
    "    wss_iter = kmeans.inertia_\n",
    "    wss_liveness.append(wss_iter)\n",
    "\n",
    "print(wss_liveness)"
   ]
  },
  {
   "cell_type": "code",
   "execution_count": 47,
   "metadata": {},
   "outputs": [
    {
     "data": {
      "text/plain": [
       "[<matplotlib.lines.Line2D at 0x7fb33202ffd0>]"
      ]
     },
     "execution_count": 47,
     "metadata": {},
     "output_type": "execute_result"
    },
    {
     "data": {
      "image/png": "[encoded data removed]",
      "text/plain": [
       "<Figure size 432x288 with 1 Axes>"
      ]
     },
     "metadata": {
      "needs_background": "light"
     },
     "output_type": "display_data"
    }
   ],
   "source": [
    "plt.plot([2, 3, 4, 5, 6, 7, 8], wss_liveness, marker = 'o')"
   ]
  },
  {
   "cell_type": "code",
   "execution_count": 50,
   "metadata": {},
   "outputs": [
    {
     "name": "stdout",
     "output_type": "stream",
     "text": [
      "[1557963.4762958959, 843331.3359387863, 528375.073963094, 373084.04549969843, 267401.6439505521, 201369.81123147783, 161126.26033232664]\n"
     ]
    }
   ],
   "source": [
    "Loudness_x = np.reshape(Loudness_x, (-1, 1))\n",
    "\n",
    "wss_loudness = []\n",
    "for i in range(2, 9):\n",
    "    kmeans = cluster.KMeans(n_clusters = i, init = \"k-means++\")\n",
    "    kmeans = kmeans.fit(Loudness_x)\n",
    "    wss_iter = kmeans.inertia_\n",
    "    wss_loudness.append(wss_iter)\n",
    "\n",
    "print(wss_loudness)"
   ]
  },
  {
   "cell_type": "code",
   "execution_count": 51,
   "metadata": {},
   "outputs": [
    {
     "data": {
      "text/plain": [
       "[<matplotlib.lines.Line2D at 0x7fb2d7db2c40>]"
      ]
     },
     "execution_count": 51,
     "metadata": {},
     "output_type": "execute_result"
    },
    {
     "data": {
      "image/png": "[encoded data removed]",
      "text/plain": [
       "<Figure size 432x288 with 1 Axes>"
      ]
     },
     "metadata": {
      "needs_background": "light"
     },
     "output_type": "display_data"
    }
   ],
   "source": [
    "plt.plot([2, 3, 4, 5, 6, 7, 8], wss_loudness, marker = 'o')"
   ]
  },
  {
   "cell_type": "code",
   "execution_count": 52,
   "metadata": {},
   "outputs": [
    {
     "name": "stdout",
     "output_type": "stream",
     "text": [
      "[987530.246879141, 528894.8071291209, 317193.0316213863, 175252.05107903536, 114885.1909414678, 87804.58387300385, 65731.72370169085]\n"
     ]
    }
   ],
   "source": [
    "Speechiness_x = np.reshape(Speechiness_x, (-1, 1))\n",
    "\n",
    "wss_speechiness = []\n",
    "for i in range(2, 9):\n",
    "    kmeans = cluster.KMeans(n_clusters = i, init = \"k-means++\")\n",
    "    kmeans = kmeans.fit(Speechiness_x)\n",
    "    wss_iter = kmeans.inertia_\n",
    "    wss_speechiness.append(wss_iter)\n",
    "\n",
    "print(wss_speechiness)"
   ]
  },
  {
   "cell_type": "code",
   "execution_count": 53,
   "metadata": {},
   "outputs": [
    {
     "data": {
      "text/plain": [
       "[<matplotlib.lines.Line2D at 0x7fb37bc31130>]"
      ]
     },
     "execution_count": 53,
     "metadata": {},
     "output_type": "execute_result"
    },
    {
     "data": {
      "image/png": "[encoded data removed]",
      "text/plain": [
       "<Figure size 432x288 with 1 Axes>"
      ]
     },
     "metadata": {
      "needs_background": "light"
     },
     "output_type": "display_data"
    }
   ],
   "source": [
    "plt.plot([2, 3, 4, 5, 6, 7, 8], wss_speechiness, marker = 'o')"
   ]
  },
  {
   "cell_type": "code",
   "execution_count": 54,
   "metadata": {},
   "outputs": [
    {
     "name": "stdout",
     "output_type": "stream",
     "text": [
      "[997408.4403382959, 479946.27437996597, 293799.66682159994, 195379.46830891678, 147550.27294444034, 115522.88979715202, 96354.87579077037]\n"
     ]
    }
   ],
   "source": [
    "Tempo_x = np.reshape(Tempo_x, (-1, 1))\n",
    "\n",
    "wss_tempo = []\n",
    "for i in range(2, 9):\n",
    "    kmeans = cluster.KMeans(n_clusters = i, init = \"k-means++\")\n",
    "    kmeans = kmeans.fit(Tempo_x)\n",
    "    wss_iter = kmeans.inertia_\n",
    "    wss_tempo.append(wss_iter)\n",
    "\n",
    "print(wss_tempo)"
   ]
  },
  {
   "cell_type": "code",
   "execution_count": 55,
   "metadata": {},
   "outputs": [
    {
     "data": {
      "text/plain": [
       "[<matplotlib.lines.Line2D at 0x7fb2d5e51700>]"
      ]
     },
     "execution_count": 55,
     "metadata": {},
     "output_type": "execute_result"
    },
    {
     "data": {
      "image/png": "[encoded data removed]",
      "text/plain": [
       "<Figure size 432x288 with 1 Axes>"
      ]
     },
     "metadata": {
      "needs_background": "light"
     },
     "output_type": "display_data"
    }
   ],
   "source": [
    "plt.plot([2, 3, 4, 5, 6, 7, 8], wss_tempo, marker = 'o')"
   ]
  },
  {
   "cell_type": "code",
   "execution_count": 56,
   "metadata": {},
   "outputs": [
    {
     "name": "stdout",
     "output_type": "stream",
     "text": [
      "[980249.778293102, 460105.6806235646, 268921.3385586922, 177282.38191708364, 122518.3331080327, 90005.27773501872, 70405.412963107]\n"
     ]
    }
   ],
   "source": [
    "Valence_x = np.reshape(Valence_x, (-1, 1))\n",
    "\n",
    "wss_valence = []\n",
    "for i in range(2, 9):\n",
    "    kmeans = cluster.KMeans(n_clusters = i, init = \"k-means++\")\n",
    "    kmeans = kmeans.fit(Valence_x)\n",
    "    wss_iter = kmeans.inertia_\n",
    "    wss_valence.append(wss_iter)\n",
    "\n",
    "print(wss_valence)"
   ]
  },
  {
   "cell_type": "code",
   "execution_count": 57,
   "metadata": {},
   "outputs": [
    {
     "data": {
      "text/plain": [
       "[<matplotlib.lines.Line2D at 0x7fb3a55e3df0>]"
      ]
     },
     "execution_count": 57,
     "metadata": {},
     "output_type": "execute_result"
    },
    {
     "data": {
      "image/png": "[encoded data removed]",
      "text/plain": [
       "<Figure size 432x288 with 1 Axes>"
      ]
     },
     "metadata": {
      "needs_background": "light"
     },
     "output_type": "display_data"
    }
   ],
   "source": [
    "plt.plot([2, 3, 4, 5, 6, 7, 8], wss_valence, marker = 'o')"
   ]
  }
 ],
 "metadata": {
  "interpreter": {
   "hash": "049c4501fb017ed558d56b56feb0ddeb0be6ff33903a47692a1560ff9a8de32d"
  },
  "kernelspec": {
   "display_name": "Python 3.8.12 ('ML')",
   "language": "python",
   "name": "python3"
  },
  "language_info": {
   "codemirror_mode": {
    "name": "ipython",
    "version": 3
   },
   "file_extension": ".py",
   "mimetype": "text/x-python",
   "name": "python",
   "nbconvert_exporter": "python",
   "pygments_lexer": "ipython3",
   "version": "3.8.12"
  },
  "orig_nbformat": 4
 },
 "nbformat": 4,
 "nbformat_minor": 2
}

{
 "cells": [
  {
   "cell_type": "code",
   "execution_count": 24,
   "metadata": {},
   "outputs": [],
   "source": [
    "import matplotlib.pyplot as plt\n",
    "import numpy as np\n",
    "import pandas as pd\n",
    "from sklearn.preprocessing import StandardScaler\n",
    "from sklearn.model_selection import train_test_split\n",
    "from sklearn.neighbors import KNeighborsClassifier\n",
    "from sklearn.linear_model import LogisticRegression\n",
    "from sklearn.neural_network import MLPClassifier\n",
    "from sklearn import metrics"
   ]
  },
  {
   "cell_type": "code",
   "execution_count": 25,
   "metadata": {},
   "outputs": [
    {
     "data": {
      "text/html": [
       "<div>\n",
       "<style scoped>\n",
       "    .dataframe tbody tr th:only-of-type {\n",
       "        vertical-align: middle;\n",
       "    }\n",
       "\n",
       "    .dataframe tbody tr th {\n",
       "        vertical-align: top;\n",
       "    }\n",
       "\n",
       "    .dataframe thead th {\n",
       "        text-align: right;\n",
       "    }\n",
       "</style>\n",
       "<table border=\"1\" class=\"dataframe\">\n",
       "  <thead>\n",
       "    <tr style=\"text-align: right;\">\n",
       "      <th></th>\n",
       "      <th>Unnamed: 0</th>\n",
       "      <th>track_id_clean</th>\n",
       "      <th>danceability</th>\n",
       "      <th>energy</th>\n",
       "      <th>loudness</th>\n",
       "      <th>speechiness</th>\n",
       "      <th>acousticness</th>\n",
       "      <th>instrumentalness</th>\n",
       "      <th>liveness</th>\n",
       "      <th>valence</th>\n",
       "      <th>tempo</th>\n",
       "      <th>duration_ms</th>\n",
       "      <th>time_signature</th>\n",
       "      <th>date</th>\n",
       "      <th>hour_of_day</th>\n",
       "      <th>day_of_week</th>\n",
       "      <th>GROUP</th>\n",
       "      <th>occurrences</th>\n",
       "      <th>rnk</th>\n",
       "    </tr>\n",
       "  </thead>\n",
       "  <tbody>\n",
       "    <tr>\n",
       "      <th>0</th>\n",
       "      <td>0</td>\n",
       "      <td>t_bacf06d3-9185-4183-84ea-ff0db51475ce</td>\n",
       "      <td>0.834743</td>\n",
       "      <td>0.625758</td>\n",
       "      <td>-5.833</td>\n",
       "      <td>0.125471</td>\n",
       "      <td>0.058855</td>\n",
       "      <td>5.999111e-05</td>\n",
       "      <td>0.396249</td>\n",
       "      <td>0.349988</td>\n",
       "      <td>91.029999</td>\n",
       "      <td>217925.0</td>\n",
       "      <td>4</td>\n",
       "      <td>2018-07-15</td>\n",
       "      <td>19</td>\n",
       "      <td>0</td>\n",
       "      <td>Afternoon</td>\n",
       "      <td>2044</td>\n",
       "      <td>1</td>\n",
       "    </tr>\n",
       "    <tr>\n",
       "      <th>1</th>\n",
       "      <td>1</td>\n",
       "      <td>t_a66ea088-b357-449a-8a1e-64dd0b8d6cb5</td>\n",
       "      <td>0.510576</td>\n",
       "      <td>0.566101</td>\n",
       "      <td>-7.230</td>\n",
       "      <td>0.199701</td>\n",
       "      <td>0.349092</td>\n",
       "      <td>1.782869e-10</td>\n",
       "      <td>0.340215</td>\n",
       "      <td>0.218147</td>\n",
       "      <td>83.903000</td>\n",
       "      <td>239836.0</td>\n",
       "      <td>4</td>\n",
       "      <td>2018-07-15</td>\n",
       "      <td>19</td>\n",
       "      <td>0</td>\n",
       "      <td>Afternoon</td>\n",
       "      <td>1219</td>\n",
       "      <td>1</td>\n",
       "    </tr>\n",
       "    <tr>\n",
       "      <th>2</th>\n",
       "      <td>2</td>\n",
       "      <td>t_8c4d29b1-e0bf-464c-88f7-ac19240cbba0</td>\n",
       "      <td>0.912074</td>\n",
       "      <td>0.411767</td>\n",
       "      <td>-8.074</td>\n",
       "      <td>0.123543</td>\n",
       "      <td>0.016422</td>\n",
       "      <td>1.296161e-02</td>\n",
       "      <td>0.103578</td>\n",
       "      <td>0.421819</td>\n",
       "      <td>154.983002</td>\n",
       "      <td>238614.0</td>\n",
       "      <td>4</td>\n",
       "      <td>2018-07-15</td>\n",
       "      <td>19</td>\n",
       "      <td>0</td>\n",
       "      <td>Afternoon</td>\n",
       "      <td>1090</td>\n",
       "      <td>1</td>\n",
       "    </tr>\n",
       "    <tr>\n",
       "      <th>3</th>\n",
       "      <td>3</td>\n",
       "      <td>t_7533e7ff-568e-448b-904e-fc0c3a9ec87e</td>\n",
       "      <td>0.602497</td>\n",
       "      <td>0.658369</td>\n",
       "      <td>-5.934</td>\n",
       "      <td>0.055776</td>\n",
       "      <td>0.023296</td>\n",
       "      <td>6.004127e-05</td>\n",
       "      <td>0.237237</td>\n",
       "      <td>0.267838</td>\n",
       "      <td>145.031006</td>\n",
       "      <td>197547.0</td>\n",
       "      <td>4</td>\n",
       "      <td>2018-07-16</td>\n",
       "      <td>16</td>\n",
       "      <td>1</td>\n",
       "      <td>Afternoon</td>\n",
       "      <td>933</td>\n",
       "      <td>1</td>\n",
       "    </tr>\n",
       "    <tr>\n",
       "      <th>4</th>\n",
       "      <td>4</td>\n",
       "      <td>t_0e3dec82-10b4-49f1-8c2e-cd19249f7d2c</td>\n",
       "      <td>0.754948</td>\n",
       "      <td>0.574916</td>\n",
       "      <td>-8.393</td>\n",
       "      <td>0.067774</td>\n",
       "      <td>0.045618</td>\n",
       "      <td>1.236852e-03</td>\n",
       "      <td>0.276028</td>\n",
       "      <td>0.490333</td>\n",
       "      <td>85.987000</td>\n",
       "      <td>205147.0</td>\n",
       "      <td>4</td>\n",
       "      <td>2018-07-16</td>\n",
       "      <td>14</td>\n",
       "      <td>1</td>\n",
       "      <td>Afternoon</td>\n",
       "      <td>830</td>\n",
       "      <td>1</td>\n",
       "    </tr>\n",
       "  </tbody>\n",
       "</table>\n",
       "</div>"
      ],
      "text/plain": [
       "   Unnamed: 0                          track_id_clean  danceability    energy  \\\n",
       "0           0  t_bacf06d3-9185-4183-84ea-ff0db51475ce      0.834743  0.625758   \n",
       "1           1  t_a66ea088-b357-449a-8a1e-64dd0b8d6cb5      0.510576  0.566101   \n",
       "2           2  t_8c4d29b1-e0bf-464c-88f7-ac19240cbba0      0.912074  0.411767   \n",
       "3           3  t_7533e7ff-568e-448b-904e-fc0c3a9ec87e      0.602497  0.658369   \n",
       "4           4  t_0e3dec82-10b4-49f1-8c2e-cd19249f7d2c      0.754948  0.574916   \n",
       "\n",
       "   loudness  speechiness  acousticness  instrumentalness  liveness   valence  \\\n",
       "0    -5.833     0.125471      0.058855      5.999111e-05  0.396249  0.349988   \n",
       "1    -7.230     0.199701      0.349092      1.782869e-10  0.340215  0.218147   \n",
       "2    -8.074     0.123543      0.016422      1.296161e-02  0.103578  0.421819   \n",
       "3    -5.934     0.055776      0.023296      6.004127e-05  0.237237  0.267838   \n",
       "4    -8.393     0.067774      0.045618      1.236852e-03  0.276028  0.490333   \n",
       "\n",
       "        tempo  duration_ms  time_signature        date  hour_of_day  \\\n",
       "0   91.029999     217925.0               4  2018-07-15           19   \n",
       "1   83.903000     239836.0               4  2018-07-15           19   \n",
       "2  154.983002     238614.0               4  2018-07-15           19   \n",
       "3  145.031006     197547.0               4  2018-07-16           16   \n",
       "4   85.987000     205147.0               4  2018-07-16           14   \n",
       "\n",
       "   day_of_week      GROUP  occurrences  rnk  \n",
       "0            0  Afternoon         2044    1  \n",
       "1            0  Afternoon         1219    1  \n",
       "2            0  Afternoon         1090    1  \n",
       "3            1  Afternoon          933    1  \n",
       "4            1  Afternoon          830    1  "
      ]
     },
     "execution_count": 25,
     "metadata": {},
     "output_type": "execute_result"
    }
   ],
   "source": [
    "test_df = pd.read_csv(\"data/clean2_0.csv\")\n",
    "test_df.head()"
   ]
  },
  {
   "cell_type": "code",
   "execution_count": 26,
   "metadata": {},
   "outputs": [
    {
     "data": {
      "text/plain": [
       "StandardScaler()"
      ]
     },
     "execution_count": 26,
     "metadata": {},
     "output_type": "execute_result"
    }
   ],
   "source": [
    "scaler = StandardScaler()\n",
    "scaler.fit(test_df[['danceability', 'energy', 'loudness', 'speechiness', 'acousticness', 'instrumentalness', 'liveness', 'valence', 'tempo', 'duration_ms', 'time_signature']])"
   ]
  },
  {
   "cell_type": "code",
   "execution_count": 27,
   "metadata": {},
   "outputs": [],
   "source": [
    "x = scaler.transform(test_df[['danceability', 'energy', 'loudness', 'speechiness', 'acousticness', 'instrumentalness', 'liveness', 'valence', 'tempo', 'duration_ms', 'time_signature']])\n",
    "y = test_df['GROUP']"
   ]
  },
  {
   "cell_type": "code",
   "execution_count": 28,
   "metadata": {},
   "outputs": [
    {
     "data": {
      "text/plain": [
       "(93062, 11)"
      ]
     },
     "execution_count": 28,
     "metadata": {},
     "output_type": "execute_result"
    }
   ],
   "source": [
    "x.shape"
   ]
  },
  {
   "cell_type": "code",
   "execution_count": 29,
   "metadata": {},
   "outputs": [
    {
     "data": {
      "text/plain": [
       "0        Afternoon\n",
       "1        Afternoon\n",
       "2        Afternoon\n",
       "3        Afternoon\n",
       "4        Afternoon\n",
       "           ...    \n",
       "93057        Night\n",
       "93058    Afternoon\n",
       "93059    Afternoon\n",
       "93060        Night\n",
       "93061    Afternoon\n",
       "Name: GROUP, Length: 93062, dtype: object"
      ]
     },
     "execution_count": 29,
     "metadata": {},
     "output_type": "execute_result"
    }
   ],
   "source": [
    "y"
   ]
  },
  {
   "cell_type": "code",
   "execution_count": 30,
   "metadata": {},
   "outputs": [],
   "source": [
    "# pca = PCA(n_components = 11)\n",
    "# pca.fit(scaled_data)\n",
    "# print(pca.explained_variance_ratio_)\n",
    "# plt.figure(figsize = (15, 9))\n",
    "# plt.bar([1, 2, 3, 4, 5, 6, 7, 8, 9, 10, 11], [0.22263443, 0.1328277,  0.10221316, 0.09790435, 0.0924416,  0.08393167,\n",
    "#  0.07559521, 0.07139214, 0.05966851, 0.04299721, 0.01839403])\n",
    "# pcadata = pca.transform(scaled_data)\n",
    "# pcadata.shape\n"
   ]
  },
  {
   "cell_type": "code",
   "execution_count": 31,
   "metadata": {},
   "outputs": [
    {
     "data": {
      "text/plain": [
       "0.34423622453365427"
      ]
     },
     "execution_count": 31,
     "metadata": {},
     "output_type": "execute_result"
    }
   ],
   "source": [
    "x_train, x_test, y_train, y_test = train_test_split(x, y, random_state = 9)\n",
    "\n",
    "knnclassifier = KNeighborsClassifier(n_neighbors = 90)\n",
    "knnclassifier.fit(x_train,y_train)\n",
    "y_pred = knnclassifier.predict(x_test)\n",
    "metrics.accuracy_score(y_test,y_pred)"
   ]
  },
  {
   "cell_type": "code",
   "execution_count": 32,
   "metadata": {},
   "outputs": [
    {
     "data": {
      "text/plain": [
       "0.34956589014011863"
      ]
     },
     "execution_count": 32,
     "metadata": {},
     "output_type": "execute_result"
    }
   ],
   "source": [
    "LogReg = LogisticRegression()\n",
    "LogReg.fit(x_train, y_train)\n",
    "y_pred_log = LogReg.predict(x_test)\n",
    "metrics.accuracy_score(y_test, y_pred_log)"
   ]
  },
  {
   "cell_type": "code",
   "execution_count": 33,
   "metadata": {},
   "outputs": [
    {
     "name": "stderr",
     "output_type": "stream",
     "text": [
      "/Users/lejaja9/opt/anaconda3/envs/ML/lib/python3.8/site-packages/sklearn/neural_network/_multilayer_perceptron.py:549: ConvergenceWarning: lbfgs failed to converge (status=1):\n",
      "STOP: TOTAL NO. of ITERATIONS REACHED LIMIT.\n",
      "\n",
      "Increase the number of iterations (max_iter) or scale the data as shown in:\n",
      "    https://scikit-learn.org/stable/modules/preprocessing.html\n",
      "  self.n_iter_ = _check_optimize_result(\"lbfgs\", opt_res, self.max_iter)\n"
     ]
    },
    {
     "data": {
      "text/plain": [
       "0.3502965701022952"
      ]
     },
     "execution_count": 33,
     "metadata": {},
     "output_type": "execute_result"
    }
   ],
   "source": [
    "clf = MLPClassifier(solver = 'lbfgs', alpha = 1e-5, hidden_layer_sizes=(5, 2), random_state = 1, max_iter = 309)\n",
    "clf.fit(x_train, y_train)\n",
    "y_pred_svm = clf.predict(x_test)\n",
    "metrics.accuracy_score(y_test, y_pred_svm)"
   ]
  }
 ],
 "metadata": {
  "interpreter": {
   "hash": "049c4501fb017ed558d56b56feb0ddeb0be6ff33903a47692a1560ff9a8de32d"
  },
  "kernelspec": {
   "display_name": "Python 3.8.12 ('ML')",
   "language": "python",
   "name": "python3"
  },
  "language_info": {
   "codemirror_mode": {
    "name": "ipython",
    "version": 3
   },
   "file_extension": ".py",
   "mimetype": "text/x-python",
   "name": "python",
   "nbconvert_exporter": "python",
   "pygments_lexer": "ipython3",
   "version": "3.8.12"
  },
  "orig_nbformat": 4
 },
 "nbformat": 4,
 "nbformat_minor": 2
}
